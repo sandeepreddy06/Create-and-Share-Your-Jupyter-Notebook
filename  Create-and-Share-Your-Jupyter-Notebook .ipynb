{
    "cells": [
        {
            "cell_type": "markdown",
            "metadata": {
                "collapsed": true
            },
            "source": "# My Jupyter Notebook on IBM Watson Studio"
        },
        {
            "cell_type": "markdown",
            "metadata": {},
            "source": "#### SANDEEP REDDY"
        },
        {
            "cell_type": "markdown",
            "metadata": {},
            "source": "- Student at ANNA UNIVERSITY - CHENNAI , INDIA"
        },
        {
            "cell_type": "markdown",
            "metadata": {},
            "source": "<i> I am interested in data science because i do electronics and communication engineering and has a aim to become the data scientist / data analyst<i>"
        },
        {
            "cell_type": "markdown",
            "metadata": {},
            "source": "## Calculating the sum of 1 plus 1"
        },
        {
            "cell_type": "code",
            "execution_count": 2,
            "metadata": {},
            "outputs": [
                {
                    "data": {
                        "text/plain": "2"
                    },
                    "execution_count": 2,
                    "metadata": {},
                    "output_type": "execute_result"
                }
            ],
            "source": "1+1"
        },
        {
            "cell_type": "markdown",
            "metadata": {},
            "source": "1. HELLO\n2. EVERYONE"
        },
        {
            "cell_type": "markdown",
            "metadata": {},
            "source": "<s> This is my notebook </s>"
        },
        {
            "cell_type": "markdown",
            "metadata": {},
            "source": "- this\n- is\n- my\n- notebook"
        },
        {
            "cell_type": "code",
            "execution_count": 13,
            "metadata": {},
            "outputs": [
                {
                    "name": "stdout",
                    "output_type": "stream",
                    "text": "planet      R (Km)    Mass (x 10^29 Kg)\n--------  --------  -------------------\nsun         696000           1.9189e+09\nEarth         6371        5973.6\nMoon          1737          73.5\nMars          3390         641.85\n"
                }
            ],
            "source": "from tabulate import tabulate\ntable = [[\"sun\",696000,1918900000],[\"Earth\",6371,5973.6],[\"Moon\",1737,73.5],[\"Mars\",3390,641.85]]\nprint(tabulate(table, headers=[\"planet\", \"R (Km)\", \"Mass (x 10^29 Kg)\"]))"
        },
        {
            "cell_type": "markdown",
            "metadata": {},
            "source": "<a> www.google.co.in </a>"
        },
        {
            "cell_type": "markdown",
            "metadata": {},
            "source": "<blockquote><font color=\"#ff7700\">print</font>&nbsp;<font color=\"#483d8b\">&quot;Hello&nbsp;World!&quot;</font></blockquote>"
        },
        {
            "cell_type": "markdown",
            "metadata": {},
            "source": " <img src=\"img_girl.jpg\" alt=\"Girl in a jacket\" width=\"500\" height=\"600\"> "
        },
        {
            "cell_type": "code",
            "execution_count": null,
            "metadata": {},
            "outputs": [],
            "source": ""
        }
    ],
    "metadata": {
        "kernelspec": {
            "display_name": "Python 3.6",
            "language": "python",
            "name": "python3"
        },
        "language_info": {
            "codemirror_mode": {
                "name": "ipython",
                "version": 3
            },
            "file_extension": ".py",
            "mimetype": "text/x-python",
            "name": "python",
            "nbconvert_exporter": "python",
            "pygments_lexer": "ipython3",
            "version": "3.6.9"
        }
    },
    "nbformat": 4,
    "nbformat_minor": 1
}